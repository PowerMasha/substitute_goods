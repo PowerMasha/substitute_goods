{
 "cells": [
  {
   "cell_type": "code",
   "execution_count": 81,
   "id": "0df6e9e7",
   "metadata": {},
   "outputs": [],
   "source": [
    "import pandas as pd\n",
    "import numpy as np\n",
    "import pygeohash as pgh\n",
    "\n",
    "import seaborn as sns"
   ]
  },
  {
   "cell_type": "code",
   "execution_count": 12,
   "id": "9759cfb3",
   "metadata": {},
   "outputs": [],
   "source": [
    "df = pd.read_csv('./worked_data.csv')"
   ]
  },
  {
   "cell_type": "code",
   "execution_count": 13,
   "id": "00aa7cb9",
   "metadata": {},
   "outputs": [
    {
     "data": {
      "text/html": [
       "<div>\n",
       "<style scoped>\n",
       "    .dataframe tbody tr th:only-of-type {\n",
       "        vertical-align: middle;\n",
       "    }\n",
       "\n",
       "    .dataframe tbody tr th {\n",
       "        vertical-align: top;\n",
       "    }\n",
       "\n",
       "    .dataframe thead th {\n",
       "        text-align: right;\n",
       "    }\n",
       "</style>\n",
       "<table border=\"1\" class=\"dataframe\">\n",
       "  <thead>\n",
       "    <tr style=\"text-align: right;\">\n",
       "      <th></th>\n",
       "      <th>Unnamed: 0</th>\n",
       "      <th>product_id</th>\n",
       "      <th>name</th>\n",
       "      <th>unit_price</th>\n",
       "      <th>geohash</th>\n",
       "      <th>primary_cuisine</th>\n",
       "      <th>en_name</th>\n",
       "    </tr>\n",
       "  </thead>\n",
       "  <tbody>\n",
       "    <tr>\n",
       "      <th>0</th>\n",
       "      <td>1</td>\n",
       "      <td>ec33db14a2c5</td>\n",
       "      <td>alcachofas empinzadas</td>\n",
       "      <td>0.304</td>\n",
       "      <td>u6scd</td>\n",
       "      <td>spanish</td>\n",
       "      <td>alcachofas empinzadas</td>\n",
       "    </tr>\n",
       "    <tr>\n",
       "      <th>1</th>\n",
       "      <td>2</td>\n",
       "      <td>fa04d9e5b964</td>\n",
       "      <td>coca-cola 2l</td>\n",
       "      <td>0.240</td>\n",
       "      <td>u6scq</td>\n",
       "      <td>pizza</td>\n",
       "      <td>coca-cola 2l</td>\n",
       "    </tr>\n",
       "    <tr>\n",
       "      <th>2</th>\n",
       "      <td>3</td>\n",
       "      <td>9f502de9373e</td>\n",
       "      <td>5 lax, 5 räkor, 5 avokado</td>\n",
       "      <td>0.820</td>\n",
       "      <td>u6sck</td>\n",
       "      <td>sushi</td>\n",
       "      <td>5 salmon, 5 shrimp, 5 avocados</td>\n",
       "    </tr>\n",
       "    <tr>\n",
       "      <th>3</th>\n",
       "      <td>5</td>\n",
       "      <td>35ac685bcc43</td>\n",
       "      <td>52 femtiotvå</td>\n",
       "      <td>0.872</td>\n",
       "      <td>u6sct</td>\n",
       "      <td>thai</td>\n",
       "      <td>52 fifty-two</td>\n",
       "    </tr>\n",
       "    <tr>\n",
       "      <th>4</th>\n",
       "      <td>6</td>\n",
       "      <td>ea2ce1a7db0f</td>\n",
       "      <td>sprite 33 cl</td>\n",
       "      <td>0.152</td>\n",
       "      <td>u6sct</td>\n",
       "      <td>thai</td>\n",
       "      <td>sprite 33 cl</td>\n",
       "    </tr>\n",
       "  </tbody>\n",
       "</table>\n",
       "</div>"
      ],
      "text/plain": [
       "   Unnamed: 0    product_id                       name  unit_price geohash  \\\n",
       "0           1  ec33db14a2c5      alcachofas empinzadas       0.304   u6scd   \n",
       "1           2  fa04d9e5b964               coca-cola 2l       0.240   u6scq   \n",
       "2           3  9f502de9373e  5 lax, 5 räkor, 5 avokado       0.820   u6sck   \n",
       "3           5  35ac685bcc43               52 femtiotvå       0.872   u6sct   \n",
       "4           6  ea2ce1a7db0f               sprite 33 cl       0.152   u6sct   \n",
       "\n",
       "  primary_cuisine                         en_name  \n",
       "0         spanish           alcachofas empinzadas  \n",
       "1           pizza                    coca-cola 2l  \n",
       "2           sushi  5 salmon, 5 shrimp, 5 avocados  \n",
       "3            thai                    52 fifty-two  \n",
       "4            thai                    sprite 33 cl  "
      ]
     },
     "execution_count": 13,
     "metadata": {},
     "output_type": "execute_result"
    }
   ],
   "source": [
    "df.head()"
   ]
  },
  {
   "cell_type": "code",
   "execution_count": 14,
   "id": "6726c24a",
   "metadata": {},
   "outputs": [],
   "source": [
    "lat = []\n",
    "long = []\n",
    "for index, row in df.iterrows(): \n",
    "    x, y = pgh.decode(row['geohash'])\n",
    "    lat.append(x)\n",
    "    long.append(y)\n",
    "df['latitude'] = lat\n",
    "df['longitude'] = long"
   ]
  },
  {
   "cell_type": "code",
   "execution_count": 15,
   "id": "250a88b1",
   "metadata": {},
   "outputs": [],
   "source": [
    "df = df.drop(columns = ['Unnamed: 0', 'name', 'geohash'])"
   ]
  },
  {
   "cell_type": "code",
   "execution_count": 16,
   "id": "fa5b3369",
   "metadata": {},
   "outputs": [
    {
     "data": {
      "text/html": [
       "<div>\n",
       "<style scoped>\n",
       "    .dataframe tbody tr th:only-of-type {\n",
       "        vertical-align: middle;\n",
       "    }\n",
       "\n",
       "    .dataframe tbody tr th {\n",
       "        vertical-align: top;\n",
       "    }\n",
       "\n",
       "    .dataframe thead th {\n",
       "        text-align: right;\n",
       "    }\n",
       "</style>\n",
       "<table border=\"1\" class=\"dataframe\">\n",
       "  <thead>\n",
       "    <tr style=\"text-align: right;\">\n",
       "      <th></th>\n",
       "      <th>product_id</th>\n",
       "      <th>unit_price</th>\n",
       "      <th>primary_cuisine</th>\n",
       "      <th>en_name</th>\n",
       "      <th>latitude</th>\n",
       "      <th>longitude</th>\n",
       "    </tr>\n",
       "  </thead>\n",
       "  <tbody>\n",
       "    <tr>\n",
       "      <th>0</th>\n",
       "      <td>ec33db14a2c5</td>\n",
       "      <td>0.304</td>\n",
       "      <td>spanish</td>\n",
       "      <td>alcachofas empinzadas</td>\n",
       "      <td>59.3</td>\n",
       "      <td>18.0</td>\n",
       "    </tr>\n",
       "    <tr>\n",
       "      <th>1</th>\n",
       "      <td>fa04d9e5b964</td>\n",
       "      <td>0.240</td>\n",
       "      <td>pizza</td>\n",
       "      <td>coca-cola 2l</td>\n",
       "      <td>59.3</td>\n",
       "      <td>18.2</td>\n",
       "    </tr>\n",
       "    <tr>\n",
       "      <th>2</th>\n",
       "      <td>9f502de9373e</td>\n",
       "      <td>0.820</td>\n",
       "      <td>sushi</td>\n",
       "      <td>5 salmon, 5 shrimp, 5 avocados</td>\n",
       "      <td>59.3</td>\n",
       "      <td>18.1</td>\n",
       "    </tr>\n",
       "    <tr>\n",
       "      <th>3</th>\n",
       "      <td>35ac685bcc43</td>\n",
       "      <td>0.872</td>\n",
       "      <td>thai</td>\n",
       "      <td>52 fifty-two</td>\n",
       "      <td>59.3</td>\n",
       "      <td>18.2</td>\n",
       "    </tr>\n",
       "    <tr>\n",
       "      <th>4</th>\n",
       "      <td>ea2ce1a7db0f</td>\n",
       "      <td>0.152</td>\n",
       "      <td>thai</td>\n",
       "      <td>sprite 33 cl</td>\n",
       "      <td>59.3</td>\n",
       "      <td>18.2</td>\n",
       "    </tr>\n",
       "  </tbody>\n",
       "</table>\n",
       "</div>"
      ],
      "text/plain": [
       "     product_id  unit_price primary_cuisine                         en_name  \\\n",
       "0  ec33db14a2c5       0.304         spanish           alcachofas empinzadas   \n",
       "1  fa04d9e5b964       0.240           pizza                    coca-cola 2l   \n",
       "2  9f502de9373e       0.820           sushi  5 salmon, 5 shrimp, 5 avocados   \n",
       "3  35ac685bcc43       0.872            thai                    52 fifty-two   \n",
       "4  ea2ce1a7db0f       0.152            thai                    sprite 33 cl   \n",
       "\n",
       "   latitude  longitude  \n",
       "0      59.3       18.0  \n",
       "1      59.3       18.2  \n",
       "2      59.3       18.1  \n",
       "3      59.3       18.2  \n",
       "4      59.3       18.2  "
      ]
     },
     "execution_count": 16,
     "metadata": {},
     "output_type": "execute_result"
    }
   ],
   "source": [
    "df.head()"
   ]
  },
  {
   "cell_type": "markdown",
   "id": "b20d91a6",
   "metadata": {},
   "source": [
    "## Эмбединг слов"
   ]
  },
  {
   "cell_type": "code",
   "execution_count": 17,
   "id": "f58cbc0f",
   "metadata": {},
   "outputs": [
    {
     "name": "stdout",
     "output_type": "stream",
     "text": [
      "Requirement already satisfied: gensim in /Users/tainella/opt/anaconda3/lib/python3.9/site-packages (4.1.2)\n",
      "Requirement already satisfied: numpy>=1.17.0 in /Users/tainella/opt/anaconda3/lib/python3.9/site-packages (from gensim) (1.21.6)\n",
      "Requirement already satisfied: scipy>=0.18.1 in /Users/tainella/opt/anaconda3/lib/python3.9/site-packages (from gensim) (1.8.1)\n",
      "Requirement already satisfied: smart-open>=1.8.1 in /Users/tainella/opt/anaconda3/lib/python3.9/site-packages (from gensim) (5.2.1)\n",
      "\n",
      "\u001b[1m[\u001b[0m\u001b[34;49mnotice\u001b[0m\u001b[1;39;49m]\u001b[0m\u001b[39;49m A new release of pip is available: \u001b[0m\u001b[31;49m23.2.1\u001b[0m\u001b[39;49m -> \u001b[0m\u001b[32;49m23.3.2\u001b[0m\n",
      "\u001b[1m[\u001b[0m\u001b[34;49mnotice\u001b[0m\u001b[1;39;49m]\u001b[0m\u001b[39;49m To update, run: \u001b[0m\u001b[32;49mpip install --upgrade pip\u001b[0m\n"
     ]
    }
   ],
   "source": [
    "!pip install gensim"
   ]
  },
  {
   "cell_type": "code",
   "execution_count": 48,
   "id": "9ddf2f3f",
   "metadata": {},
   "outputs": [],
   "source": [
    "from gensim.models import Word2Vec\n",
    "\n",
    "w2v_model = Word2Vec(\n",
    "    min_count=1,\n",
    "    window=1,\n",
    "    negative=10,\n",
    "    vector_size = 10,\n",
    "    alpha=0.03,\n",
    "    min_alpha=0.0007,\n",
    "    sample=6e-5,\n",
    "    sg=1)"
   ]
  },
  {
   "cell_type": "code",
   "execution_count": 49,
   "id": "d0ff3528",
   "metadata": {},
   "outputs": [
    {
     "data": {
      "text/plain": [
       "product_id  unit_price  primary_cuisine  en_name  latitude  longitude\n",
       "False       False       False            False    False     False        96578\n",
       "dtype: int64"
      ]
     },
     "execution_count": 49,
     "metadata": {},
     "output_type": "execute_result"
    }
   ],
   "source": [
    "df.isna().value_counts()"
   ]
  },
  {
   "cell_type": "code",
   "execution_count": 50,
   "id": "180b39c2",
   "metadata": {},
   "outputs": [],
   "source": [
    "df = df.fillna('')"
   ]
  },
  {
   "cell_type": "code",
   "execution_count": 51,
   "id": "a5a1a07a",
   "metadata": {},
   "outputs": [],
   "source": [
    "data = [df['primary_cuisine'].to_list() + df['en_name'].to_list()]\n",
    "w2v_model.build_vocab(data)"
   ]
  },
  {
   "cell_type": "code",
   "execution_count": 52,
   "id": "7c1719a0",
   "metadata": {},
   "outputs": [
    {
     "data": {
      "text/plain": [
       "(300000, 5794680)"
      ]
     },
     "execution_count": 52,
     "metadata": {},
     "output_type": "execute_result"
    }
   ],
   "source": [
    "w2v_model.train(data, total_examples=w2v_model.corpus_count, epochs=30, report_delay=1)"
   ]
  },
  {
   "cell_type": "code",
   "execution_count": 53,
   "id": "90d585e4",
   "metadata": {},
   "outputs": [
    {
     "data": {
      "text/plain": [
       "array([ 1.1345505 , -1.3526487 ,  2.7670715 , -0.3965687 , -0.10437916,\n",
       "       -1.8213797 ,  8.1703825 ,  5.3759084 , -6.5864162 , -0.93779707],\n",
       "      dtype=float32)"
      ]
     },
     "execution_count": 53,
     "metadata": {},
     "output_type": "execute_result"
    }
   ],
   "source": [
    "w2v_model.wv['pizza']"
   ]
  },
  {
   "cell_type": "code",
   "execution_count": 56,
   "id": "c934240b",
   "metadata": {},
   "outputs": [],
   "source": [
    "new_df = df.copy()\n",
    "new_df = new_df.drop(columns = ['primary_cuisine', 'en_name'])\n",
    "\n",
    "for index, row in df.iterrows(): \n",
    "    primary_cuisine = w2v_model.wv[row['primary_cuisine']]\n",
    "    en_name = w2v_model.wv[str(row['en_name'])]\n",
    "    i = 0\n",
    "    for n in primary_cuisine:\n",
    "        new_df.at[index, f'primary_cuisine_{i}'] = n\n",
    "        i += 1\n",
    "    i = 0\n",
    "    for n in en_name:\n",
    "        new_df.at[index, f'en_name_{i}'] = n\n",
    "        i += 1"
   ]
  },
  {
   "cell_type": "code",
   "execution_count": 57,
   "id": "cd6c1b10",
   "metadata": {},
   "outputs": [
    {
     "data": {
      "text/html": [
       "<div>\n",
       "<style scoped>\n",
       "    .dataframe tbody tr th:only-of-type {\n",
       "        vertical-align: middle;\n",
       "    }\n",
       "\n",
       "    .dataframe tbody tr th {\n",
       "        vertical-align: top;\n",
       "    }\n",
       "\n",
       "    .dataframe thead th {\n",
       "        text-align: right;\n",
       "    }\n",
       "</style>\n",
       "<table border=\"1\" class=\"dataframe\">\n",
       "  <thead>\n",
       "    <tr style=\"text-align: right;\">\n",
       "      <th></th>\n",
       "      <th>product_id</th>\n",
       "      <th>unit_price</th>\n",
       "      <th>latitude</th>\n",
       "      <th>longitude</th>\n",
       "      <th>primary_cuisine_0</th>\n",
       "      <th>primary_cuisine_1</th>\n",
       "      <th>primary_cuisine_2</th>\n",
       "      <th>primary_cuisine_3</th>\n",
       "      <th>primary_cuisine_4</th>\n",
       "      <th>primary_cuisine_5</th>\n",
       "      <th>...</th>\n",
       "      <th>en_name_0</th>\n",
       "      <th>en_name_1</th>\n",
       "      <th>en_name_2</th>\n",
       "      <th>en_name_3</th>\n",
       "      <th>en_name_4</th>\n",
       "      <th>en_name_5</th>\n",
       "      <th>en_name_6</th>\n",
       "      <th>en_name_7</th>\n",
       "      <th>en_name_8</th>\n",
       "      <th>en_name_9</th>\n",
       "    </tr>\n",
       "  </thead>\n",
       "  <tbody>\n",
       "    <tr>\n",
       "      <th>0</th>\n",
       "      <td>ec33db14a2c5</td>\n",
       "      <td>0.304</td>\n",
       "      <td>59.3</td>\n",
       "      <td>18.0</td>\n",
       "      <td>0.757551</td>\n",
       "      <td>-1.042341</td>\n",
       "      <td>2.151450</td>\n",
       "      <td>-0.223921</td>\n",
       "      <td>-0.246398</td>\n",
       "      <td>-1.274192</td>\n",
       "      <td>...</td>\n",
       "      <td>0.124920</td>\n",
       "      <td>-0.107810</td>\n",
       "      <td>0.327576</td>\n",
       "      <td>-0.098199</td>\n",
       "      <td>0.027440</td>\n",
       "      <td>-0.137183</td>\n",
       "      <td>0.658900</td>\n",
       "      <td>0.392239</td>\n",
       "      <td>-0.452834</td>\n",
       "      <td>-0.115296</td>\n",
       "    </tr>\n",
       "    <tr>\n",
       "      <th>1</th>\n",
       "      <td>fa04d9e5b964</td>\n",
       "      <td>0.240</td>\n",
       "      <td>59.3</td>\n",
       "      <td>18.2</td>\n",
       "      <td>1.134550</td>\n",
       "      <td>-1.352649</td>\n",
       "      <td>2.767071</td>\n",
       "      <td>-0.396569</td>\n",
       "      <td>-0.104379</td>\n",
       "      <td>-1.821380</td>\n",
       "      <td>...</td>\n",
       "      <td>0.092733</td>\n",
       "      <td>-0.076130</td>\n",
       "      <td>0.437493</td>\n",
       "      <td>-0.296371</td>\n",
       "      <td>0.219356</td>\n",
       "      <td>-0.086068</td>\n",
       "      <td>1.059721</td>\n",
       "      <td>0.676011</td>\n",
       "      <td>-0.875360</td>\n",
       "      <td>-0.058168</td>\n",
       "    </tr>\n",
       "    <tr>\n",
       "      <th>2</th>\n",
       "      <td>9f502de9373e</td>\n",
       "      <td>0.820</td>\n",
       "      <td>59.3</td>\n",
       "      <td>18.1</td>\n",
       "      <td>0.882450</td>\n",
       "      <td>-1.230438</td>\n",
       "      <td>2.528480</td>\n",
       "      <td>-0.481319</td>\n",
       "      <td>-0.097049</td>\n",
       "      <td>-1.553277</td>\n",
       "      <td>...</td>\n",
       "      <td>0.252368</td>\n",
       "      <td>-0.100887</td>\n",
       "      <td>0.385945</td>\n",
       "      <td>-0.244434</td>\n",
       "      <td>0.184637</td>\n",
       "      <td>-0.164916</td>\n",
       "      <td>0.867720</td>\n",
       "      <td>0.454744</td>\n",
       "      <td>-0.801865</td>\n",
       "      <td>-0.023821</td>\n",
       "    </tr>\n",
       "    <tr>\n",
       "      <th>3</th>\n",
       "      <td>35ac685bcc43</td>\n",
       "      <td>0.872</td>\n",
       "      <td>59.3</td>\n",
       "      <td>18.2</td>\n",
       "      <td>0.957896</td>\n",
       "      <td>-1.058989</td>\n",
       "      <td>2.559645</td>\n",
       "      <td>-0.416770</td>\n",
       "      <td>-0.043126</td>\n",
       "      <td>-1.555766</td>\n",
       "      <td>...</td>\n",
       "      <td>0.170897</td>\n",
       "      <td>-0.110023</td>\n",
       "      <td>0.433800</td>\n",
       "      <td>-0.320116</td>\n",
       "      <td>0.070227</td>\n",
       "      <td>-0.219308</td>\n",
       "      <td>0.893524</td>\n",
       "      <td>0.567447</td>\n",
       "      <td>-0.880274</td>\n",
       "      <td>-0.117358</td>\n",
       "    </tr>\n",
       "    <tr>\n",
       "      <th>4</th>\n",
       "      <td>ea2ce1a7db0f</td>\n",
       "      <td>0.152</td>\n",
       "      <td>59.3</td>\n",
       "      <td>18.2</td>\n",
       "      <td>0.957896</td>\n",
       "      <td>-1.058989</td>\n",
       "      <td>2.559645</td>\n",
       "      <td>-0.416770</td>\n",
       "      <td>-0.043126</td>\n",
       "      <td>-1.555766</td>\n",
       "      <td>...</td>\n",
       "      <td>0.232580</td>\n",
       "      <td>-0.324344</td>\n",
       "      <td>0.621244</td>\n",
       "      <td>-0.457554</td>\n",
       "      <td>0.217313</td>\n",
       "      <td>-0.372510</td>\n",
       "      <td>1.596732</td>\n",
       "      <td>0.924262</td>\n",
       "      <td>-1.355715</td>\n",
       "      <td>-0.066245</td>\n",
       "    </tr>\n",
       "  </tbody>\n",
       "</table>\n",
       "<p>5 rows × 24 columns</p>\n",
       "</div>"
      ],
      "text/plain": [
       "     product_id  unit_price  latitude  longitude  primary_cuisine_0  \\\n",
       "0  ec33db14a2c5       0.304      59.3       18.0           0.757551   \n",
       "1  fa04d9e5b964       0.240      59.3       18.2           1.134550   \n",
       "2  9f502de9373e       0.820      59.3       18.1           0.882450   \n",
       "3  35ac685bcc43       0.872      59.3       18.2           0.957896   \n",
       "4  ea2ce1a7db0f       0.152      59.3       18.2           0.957896   \n",
       "\n",
       "   primary_cuisine_1  primary_cuisine_2  primary_cuisine_3  primary_cuisine_4  \\\n",
       "0          -1.042341           2.151450          -0.223921          -0.246398   \n",
       "1          -1.352649           2.767071          -0.396569          -0.104379   \n",
       "2          -1.230438           2.528480          -0.481319          -0.097049   \n",
       "3          -1.058989           2.559645          -0.416770          -0.043126   \n",
       "4          -1.058989           2.559645          -0.416770          -0.043126   \n",
       "\n",
       "   primary_cuisine_5  ...  en_name_0  en_name_1  en_name_2  en_name_3  \\\n",
       "0          -1.274192  ...   0.124920  -0.107810   0.327576  -0.098199   \n",
       "1          -1.821380  ...   0.092733  -0.076130   0.437493  -0.296371   \n",
       "2          -1.553277  ...   0.252368  -0.100887   0.385945  -0.244434   \n",
       "3          -1.555766  ...   0.170897  -0.110023   0.433800  -0.320116   \n",
       "4          -1.555766  ...   0.232580  -0.324344   0.621244  -0.457554   \n",
       "\n",
       "   en_name_4  en_name_5  en_name_6  en_name_7  en_name_8  en_name_9  \n",
       "0   0.027440  -0.137183   0.658900   0.392239  -0.452834  -0.115296  \n",
       "1   0.219356  -0.086068   1.059721   0.676011  -0.875360  -0.058168  \n",
       "2   0.184637  -0.164916   0.867720   0.454744  -0.801865  -0.023821  \n",
       "3   0.070227  -0.219308   0.893524   0.567447  -0.880274  -0.117358  \n",
       "4   0.217313  -0.372510   1.596732   0.924262  -1.355715  -0.066245  \n",
       "\n",
       "[5 rows x 24 columns]"
      ]
     },
     "execution_count": 57,
     "metadata": {},
     "output_type": "execute_result"
    }
   ],
   "source": [
    "new_df.head()"
   ]
  },
  {
   "cell_type": "code",
   "execution_count": 62,
   "id": "51899ceb",
   "metadata": {},
   "outputs": [],
   "source": [
    "from sklearn.model_selection import train_test_split"
   ]
  },
  {
   "cell_type": "code",
   "execution_count": 63,
   "id": "d6e214f0",
   "metadata": {},
   "outputs": [],
   "source": [
    "X_train, X_test = train_test_split(new_df, test_size=0.33, random_state=42)"
   ]
  },
  {
   "cell_type": "markdown",
   "id": "8995f3b7",
   "metadata": {},
   "source": [
    "## Кластеризация"
   ]
  },
  {
   "cell_type": "code",
   "execution_count": 59,
   "id": "cfa3dcb1",
   "metadata": {},
   "outputs": [
    {
     "name": "stdout",
     "output_type": "stream",
     "text": [
      "Collecting hdbscan\n",
      "  Downloading hdbscan-0.8.33.tar.gz (5.2 MB)\n",
      "\u001b[2K     \u001b[90m━━━━━━━━━━━━━━━━━━━━━━━━━━━━━━━━━━━━━━━━\u001b[0m \u001b[32m5.2/5.2 MB\u001b[0m \u001b[31m9.7 MB/s\u001b[0m eta \u001b[36m0:00:00\u001b[0m:00:01\u001b[0m00:01\u001b[0m\n",
      "\u001b[?25h  Installing build dependencies ... \u001b[?25ldone\n",
      "\u001b[?25h  Getting requirements to build wheel ... \u001b[?25ldone\n",
      "\u001b[?25h  Preparing metadata (pyproject.toml) ... \u001b[?25ldone\n",
      "\u001b[?25hRequirement already satisfied: cython<3,>=0.27 in /Users/tainella/opt/anaconda3/lib/python3.9/site-packages (from hdbscan) (0.29.32)\n",
      "Requirement already satisfied: numpy>=1.20 in /Users/tainella/opt/anaconda3/lib/python3.9/site-packages (from hdbscan) (1.21.6)\n",
      "Requirement already satisfied: scipy>=1.0 in /Users/tainella/opt/anaconda3/lib/python3.9/site-packages (from hdbscan) (1.8.1)\n",
      "Requirement already satisfied: scikit-learn>=0.20 in /Users/tainella/opt/anaconda3/lib/python3.9/site-packages (from hdbscan) (1.1.1)\n",
      "Requirement already satisfied: joblib>=1.0 in /Users/tainella/opt/anaconda3/lib/python3.9/site-packages (from hdbscan) (1.1.0)\n",
      "Requirement already satisfied: threadpoolctl>=2.0.0 in /Users/tainella/opt/anaconda3/lib/python3.9/site-packages (from scikit-learn>=0.20->hdbscan) (2.2.0)\n",
      "Building wheels for collected packages: hdbscan\n",
      "  Building wheel for hdbscan (pyproject.toml) ... \u001b[?25ldone\n",
      "\u001b[?25h  Created wheel for hdbscan: filename=hdbscan-0.8.33-cp39-cp39-macosx_11_0_arm64.whl size=620720 sha256=a2b887e36b2376a58d7951f7e48217bd2fa6f43774786f7ebf28496a802b164a\n",
      "  Stored in directory: /Users/tainella/Library/Caches/pip/wheels/28/5e/ed/5989da4cc423a222a47cbb4fde5d6c0eff4590d922e45f233c\n",
      "Successfully built hdbscan\n",
      "Installing collected packages: hdbscan\n",
      "Successfully installed hdbscan-0.8.33\n",
      "\n",
      "\u001b[1m[\u001b[0m\u001b[34;49mnotice\u001b[0m\u001b[1;39;49m]\u001b[0m\u001b[39;49m A new release of pip is available: \u001b[0m\u001b[31;49m23.2.1\u001b[0m\u001b[39;49m -> \u001b[0m\u001b[32;49m23.3.2\u001b[0m\n",
      "\u001b[1m[\u001b[0m\u001b[34;49mnotice\u001b[0m\u001b[1;39;49m]\u001b[0m\u001b[39;49m To update, run: \u001b[0m\u001b[32;49mpip install --upgrade pip\u001b[0m\n"
     ]
    }
   ],
   "source": [
    "!pip install hdbscan"
   ]
  },
  {
   "cell_type": "code",
   "execution_count": 60,
   "id": "9be130ef",
   "metadata": {},
   "outputs": [],
   "source": [
    "import hdbscan"
   ]
  },
  {
   "cell_type": "code",
   "execution_count": 85,
   "id": "536bc21e",
   "metadata": {},
   "outputs": [
    {
     "data": {
      "text/html": [
       "<style>#sk-container-id-7 {color: black;background-color: white;}#sk-container-id-7 pre{padding: 0;}#sk-container-id-7 div.sk-toggleable {background-color: white;}#sk-container-id-7 label.sk-toggleable__label {cursor: pointer;display: block;width: 100%;margin-bottom: 0;padding: 0.3em;box-sizing: border-box;text-align: center;}#sk-container-id-7 label.sk-toggleable__label-arrow:before {content: \"▸\";float: left;margin-right: 0.25em;color: #696969;}#sk-container-id-7 label.sk-toggleable__label-arrow:hover:before {color: black;}#sk-container-id-7 div.sk-estimator:hover label.sk-toggleable__label-arrow:before {color: black;}#sk-container-id-7 div.sk-toggleable__content {max-height: 0;max-width: 0;overflow: hidden;text-align: left;background-color: #f0f8ff;}#sk-container-id-7 div.sk-toggleable__content pre {margin: 0.2em;color: black;border-radius: 0.25em;background-color: #f0f8ff;}#sk-container-id-7 input.sk-toggleable__control:checked~div.sk-toggleable__content {max-height: 200px;max-width: 100%;overflow: auto;}#sk-container-id-7 input.sk-toggleable__control:checked~label.sk-toggleable__label-arrow:before {content: \"▾\";}#sk-container-id-7 div.sk-estimator input.sk-toggleable__control:checked~label.sk-toggleable__label {background-color: #d4ebff;}#sk-container-id-7 div.sk-label input.sk-toggleable__control:checked~label.sk-toggleable__label {background-color: #d4ebff;}#sk-container-id-7 input.sk-hidden--visually {border: 0;clip: rect(1px 1px 1px 1px);clip: rect(1px, 1px, 1px, 1px);height: 1px;margin: -1px;overflow: hidden;padding: 0;position: absolute;width: 1px;}#sk-container-id-7 div.sk-estimator {font-family: monospace;background-color: #f0f8ff;border: 1px dotted black;border-radius: 0.25em;box-sizing: border-box;margin-bottom: 0.5em;}#sk-container-id-7 div.sk-estimator:hover {background-color: #d4ebff;}#sk-container-id-7 div.sk-parallel-item::after {content: \"\";width: 100%;border-bottom: 1px solid gray;flex-grow: 1;}#sk-container-id-7 div.sk-label:hover label.sk-toggleable__label {background-color: #d4ebff;}#sk-container-id-7 div.sk-serial::before {content: \"\";position: absolute;border-left: 1px solid gray;box-sizing: border-box;top: 0;bottom: 0;left: 50%;z-index: 0;}#sk-container-id-7 div.sk-serial {display: flex;flex-direction: column;align-items: center;background-color: white;padding-right: 0.2em;padding-left: 0.2em;position: relative;}#sk-container-id-7 div.sk-item {position: relative;z-index: 1;}#sk-container-id-7 div.sk-parallel {display: flex;align-items: stretch;justify-content: center;background-color: white;position: relative;}#sk-container-id-7 div.sk-item::before, #sk-container-id-7 div.sk-parallel-item::before {content: \"\";position: absolute;border-left: 1px solid gray;box-sizing: border-box;top: 0;bottom: 0;left: 50%;z-index: -1;}#sk-container-id-7 div.sk-parallel-item {display: flex;flex-direction: column;z-index: 1;position: relative;background-color: white;}#sk-container-id-7 div.sk-parallel-item:first-child::after {align-self: flex-end;width: 50%;}#sk-container-id-7 div.sk-parallel-item:last-child::after {align-self: flex-start;width: 50%;}#sk-container-id-7 div.sk-parallel-item:only-child::after {width: 0;}#sk-container-id-7 div.sk-dashed-wrapped {border: 1px dashed gray;margin: 0 0.4em 0.5em 0.4em;box-sizing: border-box;padding-bottom: 0.4em;background-color: white;}#sk-container-id-7 div.sk-label label {font-family: monospace;font-weight: bold;display: inline-block;line-height: 1.2em;}#sk-container-id-7 div.sk-label-container {text-align: center;}#sk-container-id-7 div.sk-container {/* jupyter's `normalize.less` sets `[hidden] { display: none; }` but bootstrap.min.css set `[hidden] { display: none !important; }` so we also need the `!important` here to be able to override the default hidden behavior on the sphinx rendered scikit-learn.org. See: https://github.com/scikit-learn/scikit-learn/issues/21755 */display: inline-block !important;position: relative;}#sk-container-id-7 div.sk-text-repr-fallback {display: none;}</style><div id=\"sk-container-id-7\" class=\"sk-top-container\"><div class=\"sk-text-repr-fallback\"><pre>HDBSCAN(gen_min_span_tree=True, min_cluster_size=20)</pre><b>In a Jupyter environment, please rerun this cell to show the HTML representation or trust the notebook. <br />On GitHub, the HTML representation is unable to render, please try loading this page with nbviewer.org.</b></div><div class=\"sk-container\" hidden><div class=\"sk-item\"><div class=\"sk-estimator sk-toggleable\"><input class=\"sk-toggleable__control sk-hidden--visually\" id=\"sk-estimator-id-7\" type=\"checkbox\" checked><label for=\"sk-estimator-id-7\" class=\"sk-toggleable__label sk-toggleable__label-arrow\">HDBSCAN</label><div class=\"sk-toggleable__content\"><pre>HDBSCAN(gen_min_span_tree=True, min_cluster_size=20)</pre></div></div></div></div></div>"
      ],
      "text/plain": [
       "HDBSCAN(gen_min_span_tree=True, min_cluster_size=20)"
      ]
     },
     "execution_count": 85,
     "metadata": {},
     "output_type": "execute_result"
    }
   ],
   "source": [
    "clusterer = hdbscan.HDBSCAN(min_cluster_size=20, gen_min_span_tree=True)\n",
    "clusterer.fit(X_train.drop(columns=['product_id']))"
   ]
  },
  {
   "cell_type": "code",
   "execution_count": 86,
   "id": "03d741b7",
   "metadata": {},
   "outputs": [
    {
     "data": {
      "text/plain": [
       "array([ -1,   0,   1,   2,   3,   4,   5,   6,   7,   8,   9,  10,  11,\n",
       "        12,  13,  14,  15,  16,  17,  18,  19,  20,  21,  22,  23,  24,\n",
       "        25,  26,  27,  28,  29,  30,  31,  32,  33,  34,  35,  36,  37,\n",
       "        38,  39,  40,  41,  42,  43,  44,  45,  46,  47,  48,  49,  50,\n",
       "        51,  52,  53,  54,  55,  56,  57,  58,  59,  60,  61,  62,  63,\n",
       "        64,  65,  66,  67,  68,  69,  70,  71,  72,  73,  74,  75,  76,\n",
       "        77,  78,  79,  80,  81,  82,  83,  84,  85,  86,  87,  88,  89,\n",
       "        90,  91,  92,  93,  94,  95,  96,  97,  98,  99, 100, 101, 102,\n",
       "       103, 104, 105, 106, 107, 108, 109, 110, 111, 112, 113, 114, 115,\n",
       "       116, 117, 118, 119, 120, 121, 122, 123, 124, 125, 126, 127, 128,\n",
       "       129, 130, 131, 132, 133, 134, 135, 136, 137, 138, 139, 140, 141,\n",
       "       142, 143, 144, 145, 146, 147, 148, 149, 150, 151, 152, 153, 154,\n",
       "       155, 156, 157, 158, 159, 160, 161, 162, 163, 164, 165, 166, 167,\n",
       "       168, 169, 170, 171, 172, 173, 174, 175, 176, 177, 178, 179, 180,\n",
       "       181, 182, 183, 184, 185, 186, 187, 188, 189, 190, 191, 192, 193,\n",
       "       194, 195, 196, 197, 198, 199, 200, 201, 202, 203, 204, 205, 206,\n",
       "       207, 208, 209, 210, 211, 212, 213, 214, 215, 216, 217, 218, 219,\n",
       "       220, 221, 222, 223, 224, 225, 226, 227, 228, 229, 230, 231, 232,\n",
       "       233, 234, 235, 236, 237, 238, 239, 240, 241, 242, 243, 244, 245,\n",
       "       246])"
      ]
     },
     "execution_count": 86,
     "metadata": {},
     "output_type": "execute_result"
    }
   ],
   "source": [
    "np.unique(clusterer.labels_)"
   ]
  },
  {
   "cell_type": "code",
   "execution_count": 89,
   "id": "e96f0108",
   "metadata": {},
   "outputs": [
    {
     "data": {
      "text/html": [
       "<div>\n",
       "<style scoped>\n",
       "    .dataframe tbody tr th:only-of-type {\n",
       "        vertical-align: middle;\n",
       "    }\n",
       "\n",
       "    .dataframe tbody tr th {\n",
       "        vertical-align: top;\n",
       "    }\n",
       "\n",
       "    .dataframe thead th {\n",
       "        text-align: right;\n",
       "    }\n",
       "</style>\n",
       "<table border=\"1\" class=\"dataframe\">\n",
       "  <thead>\n",
       "    <tr style=\"text-align: right;\">\n",
       "      <th></th>\n",
       "      <th>parent</th>\n",
       "      <th>child</th>\n",
       "      <th>lambda_val</th>\n",
       "      <th>child_size</th>\n",
       "    </tr>\n",
       "  </thead>\n",
       "  <tbody>\n",
       "    <tr>\n",
       "      <th>0</th>\n",
       "      <td>64707</td>\n",
       "      <td>64708</td>\n",
       "      <td>0.240351</td>\n",
       "      <td>436</td>\n",
       "    </tr>\n",
       "    <tr>\n",
       "      <th>1</th>\n",
       "      <td>64707</td>\n",
       "      <td>64709</td>\n",
       "      <td>0.240351</td>\n",
       "      <td>64271</td>\n",
       "    </tr>\n",
       "    <tr>\n",
       "      <th>2</th>\n",
       "      <td>64708</td>\n",
       "      <td>41099</td>\n",
       "      <td>0.258756</td>\n",
       "      <td>1</td>\n",
       "    </tr>\n",
       "    <tr>\n",
       "      <th>3</th>\n",
       "      <td>64709</td>\n",
       "      <td>24075</td>\n",
       "      <td>0.730359</td>\n",
       "      <td>1</td>\n",
       "    </tr>\n",
       "    <tr>\n",
       "      <th>4</th>\n",
       "      <td>64708</td>\n",
       "      <td>48114</td>\n",
       "      <td>0.261541</td>\n",
       "      <td>1</td>\n",
       "    </tr>\n",
       "  </tbody>\n",
       "</table>\n",
       "</div>"
      ],
      "text/plain": [
       "   parent  child  lambda_val  child_size\n",
       "0   64707  64708    0.240351         436\n",
       "1   64707  64709    0.240351       64271\n",
       "2   64708  41099    0.258756           1\n",
       "3   64709  24075    0.730359           1\n",
       "4   64708  48114    0.261541           1"
      ]
     },
     "execution_count": 89,
     "metadata": {},
     "output_type": "execute_result"
    }
   ],
   "source": [
    "clusterer.condensed_tree_.to_pandas().head()"
   ]
  },
  {
   "cell_type": "code",
   "execution_count": null,
   "id": "6437a8e4",
   "metadata": {},
   "outputs": [],
   "source": []
  }
 ],
 "metadata": {
  "kernelspec": {
   "display_name": "Python 3 (ipykernel)",
   "language": "python",
   "name": "python3"
  },
  "language_info": {
   "codemirror_mode": {
    "name": "ipython",
    "version": 3
   },
   "file_extension": ".py",
   "mimetype": "text/x-python",
   "name": "python",
   "nbconvert_exporter": "python",
   "pygments_lexer": "ipython3",
   "version": "3.9.13"
  }
 },
 "nbformat": 4,
 "nbformat_minor": 5
}
