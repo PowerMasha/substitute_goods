{
 "cells": [
  {
   "cell_type": "code",
   "execution_count": 10,
   "id": "0df6e9e7",
   "metadata": {},
   "outputs": [],
   "source": [
    "import pandas as pd\n",
    "import numpy as np\n",
    "import pygeohash as pgh\n",
    "\n",
    "import seaborn as sns\n",
    "from gensim.models import Word2Vec\n",
    "from sklearn.metrics import silhouette_score\n",
    "from sklearn.cluster import OPTICS\n",
    "import hdbscan\n",
    "\n",
    "from tqdm.notebook import tqdm"
   ]
  },
  {
   "cell_type": "code",
   "execution_count": 3,
   "id": "9759cfb3",
   "metadata": {},
   "outputs": [],
   "source": [
    "df = pd.read_csv('../data/worked_data.csv')"
   ]
  },
  {
   "cell_type": "code",
   "execution_count": 4,
   "id": "00aa7cb9",
   "metadata": {},
   "outputs": [
    {
     "data": {
      "text/html": [
       "<div>\n",
       "<style scoped>\n",
       "    .dataframe tbody tr th:only-of-type {\n",
       "        vertical-align: middle;\n",
       "    }\n",
       "\n",
       "    .dataframe tbody tr th {\n",
       "        vertical-align: top;\n",
       "    }\n",
       "\n",
       "    .dataframe thead th {\n",
       "        text-align: right;\n",
       "    }\n",
       "</style>\n",
       "<table border=\"1\" class=\"dataframe\">\n",
       "  <thead>\n",
       "    <tr style=\"text-align: right;\">\n",
       "      <th></th>\n",
       "      <th>Unnamed: 0</th>\n",
       "      <th>product_id</th>\n",
       "      <th>name</th>\n",
       "      <th>unit_price</th>\n",
       "      <th>geohash</th>\n",
       "      <th>primary_cuisine</th>\n",
       "      <th>en_name</th>\n",
       "    </tr>\n",
       "  </thead>\n",
       "  <tbody>\n",
       "    <tr>\n",
       "      <th>0</th>\n",
       "      <td>1</td>\n",
       "      <td>ec33db14a2c5</td>\n",
       "      <td>alcachofas empinzadas</td>\n",
       "      <td>0.304</td>\n",
       "      <td>u6scd</td>\n",
       "      <td>spanish</td>\n",
       "      <td>alcachofas empinzadas</td>\n",
       "    </tr>\n",
       "    <tr>\n",
       "      <th>1</th>\n",
       "      <td>2</td>\n",
       "      <td>fa04d9e5b964</td>\n",
       "      <td>coca-cola 2l</td>\n",
       "      <td>0.240</td>\n",
       "      <td>u6scq</td>\n",
       "      <td>pizza</td>\n",
       "      <td>coca-cola 2l</td>\n",
       "    </tr>\n",
       "    <tr>\n",
       "      <th>2</th>\n",
       "      <td>3</td>\n",
       "      <td>9f502de9373e</td>\n",
       "      <td>5 lax, 5 räkor, 5 avokado</td>\n",
       "      <td>0.820</td>\n",
       "      <td>u6sck</td>\n",
       "      <td>sushi</td>\n",
       "      <td>5 salmon, 5 shrimp, 5 avocados</td>\n",
       "    </tr>\n",
       "    <tr>\n",
       "      <th>3</th>\n",
       "      <td>5</td>\n",
       "      <td>35ac685bcc43</td>\n",
       "      <td>52 femtiotvå</td>\n",
       "      <td>0.872</td>\n",
       "      <td>u6sct</td>\n",
       "      <td>thai</td>\n",
       "      <td>52 fifty-two</td>\n",
       "    </tr>\n",
       "    <tr>\n",
       "      <th>4</th>\n",
       "      <td>6</td>\n",
       "      <td>ea2ce1a7db0f</td>\n",
       "      <td>sprite 33 cl</td>\n",
       "      <td>0.152</td>\n",
       "      <td>u6sct</td>\n",
       "      <td>thai</td>\n",
       "      <td>sprite 33 cl</td>\n",
       "    </tr>\n",
       "  </tbody>\n",
       "</table>\n",
       "</div>"
      ],
      "text/plain": [
       "   Unnamed: 0    product_id                       name  unit_price geohash  \\\n",
       "0           1  ec33db14a2c5      alcachofas empinzadas       0.304   u6scd   \n",
       "1           2  fa04d9e5b964               coca-cola 2l       0.240   u6scq   \n",
       "2           3  9f502de9373e  5 lax, 5 räkor, 5 avokado       0.820   u6sck   \n",
       "3           5  35ac685bcc43               52 femtiotvå       0.872   u6sct   \n",
       "4           6  ea2ce1a7db0f               sprite 33 cl       0.152   u6sct   \n",
       "\n",
       "  primary_cuisine                         en_name  \n",
       "0         spanish           alcachofas empinzadas  \n",
       "1           pizza                    coca-cola 2l  \n",
       "2           sushi  5 salmon, 5 shrimp, 5 avocados  \n",
       "3            thai                    52 fifty-two  \n",
       "4            thai                    sprite 33 cl  "
      ]
     },
     "execution_count": 4,
     "metadata": {},
     "output_type": "execute_result"
    }
   ],
   "source": [
    "df.head()"
   ]
  },
  {
   "cell_type": "code",
   "execution_count": 5,
   "id": "6726c24a",
   "metadata": {},
   "outputs": [],
   "source": [
    "lat = []\n",
    "long = []\n",
    "for index, row in df.iterrows(): \n",
    "    x, y = pgh.decode(row['geohash'])\n",
    "    lat.append(x)\n",
    "    long.append(y)\n",
    "df['latitude'] = lat\n",
    "df['longitude'] = long"
   ]
  },
  {
   "cell_type": "code",
   "execution_count": 6,
   "id": "250a88b1",
   "metadata": {},
   "outputs": [],
   "source": [
    "df = df.drop(columns = ['Unnamed: 0', 'name', 'geohash'])"
   ]
  },
  {
   "cell_type": "code",
   "execution_count": 7,
   "id": "fa5b3369",
   "metadata": {},
   "outputs": [
    {
     "data": {
      "text/html": [
       "<div>\n",
       "<style scoped>\n",
       "    .dataframe tbody tr th:only-of-type {\n",
       "        vertical-align: middle;\n",
       "    }\n",
       "\n",
       "    .dataframe tbody tr th {\n",
       "        vertical-align: top;\n",
       "    }\n",
       "\n",
       "    .dataframe thead th {\n",
       "        text-align: right;\n",
       "    }\n",
       "</style>\n",
       "<table border=\"1\" class=\"dataframe\">\n",
       "  <thead>\n",
       "    <tr style=\"text-align: right;\">\n",
       "      <th></th>\n",
       "      <th>product_id</th>\n",
       "      <th>unit_price</th>\n",
       "      <th>primary_cuisine</th>\n",
       "      <th>en_name</th>\n",
       "      <th>latitude</th>\n",
       "      <th>longitude</th>\n",
       "    </tr>\n",
       "  </thead>\n",
       "  <tbody>\n",
       "    <tr>\n",
       "      <th>0</th>\n",
       "      <td>ec33db14a2c5</td>\n",
       "      <td>0.304</td>\n",
       "      <td>spanish</td>\n",
       "      <td>alcachofas empinzadas</td>\n",
       "      <td>59.3</td>\n",
       "      <td>18.0</td>\n",
       "    </tr>\n",
       "    <tr>\n",
       "      <th>1</th>\n",
       "      <td>fa04d9e5b964</td>\n",
       "      <td>0.240</td>\n",
       "      <td>pizza</td>\n",
       "      <td>coca-cola 2l</td>\n",
       "      <td>59.3</td>\n",
       "      <td>18.2</td>\n",
       "    </tr>\n",
       "    <tr>\n",
       "      <th>2</th>\n",
       "      <td>9f502de9373e</td>\n",
       "      <td>0.820</td>\n",
       "      <td>sushi</td>\n",
       "      <td>5 salmon, 5 shrimp, 5 avocados</td>\n",
       "      <td>59.3</td>\n",
       "      <td>18.1</td>\n",
       "    </tr>\n",
       "    <tr>\n",
       "      <th>3</th>\n",
       "      <td>35ac685bcc43</td>\n",
       "      <td>0.872</td>\n",
       "      <td>thai</td>\n",
       "      <td>52 fifty-two</td>\n",
       "      <td>59.3</td>\n",
       "      <td>18.2</td>\n",
       "    </tr>\n",
       "    <tr>\n",
       "      <th>4</th>\n",
       "      <td>ea2ce1a7db0f</td>\n",
       "      <td>0.152</td>\n",
       "      <td>thai</td>\n",
       "      <td>sprite 33 cl</td>\n",
       "      <td>59.3</td>\n",
       "      <td>18.2</td>\n",
       "    </tr>\n",
       "  </tbody>\n",
       "</table>\n",
       "</div>"
      ],
      "text/plain": [
       "     product_id  unit_price primary_cuisine                         en_name  \\\n",
       "0  ec33db14a2c5       0.304         spanish           alcachofas empinzadas   \n",
       "1  fa04d9e5b964       0.240           pizza                    coca-cola 2l   \n",
       "2  9f502de9373e       0.820           sushi  5 salmon, 5 shrimp, 5 avocados   \n",
       "3  35ac685bcc43       0.872            thai                    52 fifty-two   \n",
       "4  ea2ce1a7db0f       0.152            thai                    sprite 33 cl   \n",
       "\n",
       "   latitude  longitude  \n",
       "0      59.3       18.0  \n",
       "1      59.3       18.2  \n",
       "2      59.3       18.1  \n",
       "3      59.3       18.2  \n",
       "4      59.3       18.2  "
      ]
     },
     "execution_count": 7,
     "metadata": {},
     "output_type": "execute_result"
    }
   ],
   "source": [
    "df.head()"
   ]
  },
  {
   "cell_type": "code",
   "execution_count": 8,
   "id": "d0ff3528",
   "metadata": {},
   "outputs": [
    {
     "data": {
      "text/plain": [
       "product_id  unit_price  primary_cuisine  en_name  latitude  longitude\n",
       "False       False       False            False    False     False        96575\n",
       "                                         True     False     False            3\n",
       "dtype: int64"
      ]
     },
     "execution_count": 8,
     "metadata": {},
     "output_type": "execute_result"
    }
   ],
   "source": [
    "df.isna().value_counts()"
   ]
  },
  {
   "cell_type": "code",
   "execution_count": 9,
   "id": "180b39c2",
   "metadata": {},
   "outputs": [],
   "source": [
    "df = df.fillna('')\n",
    "data = [df['primary_cuisine'].to_list() + df['en_name'].to_list()]"
   ]
  },
  {
   "cell_type": "markdown",
   "id": "b20d91a6",
   "metadata": {},
   "source": [
    "## Выбор оптимальной длины вектора эмбединга"
   ]
  },
  {
   "cell_type": "code",
   "execution_count": 13,
   "id": "5f53e5b0",
   "metadata": {},
   "outputs": [
    {
     "data": {
      "application/vnd.jupyter.widget-view+json": {
       "model_id": "b4d1f74dee324bc5af9f44bdb22bdcd2",
       "version_major": 2,
       "version_minor": 0
      },
      "text/plain": [
       "  0%|          | 0/4 [00:00<?, ?it/s]"
      ]
     },
     "metadata": {},
     "output_type": "display_data"
    },
    {
     "name": "stdout",
     "output_type": "stream",
     "text": [
      "hdbscan 0.0928351040251084\n",
      "hdbscan 0.1364274458589733\n",
      "hdbscan 0.13598341868929356\n",
      "hdbscan 0.12024419003604549\n"
     ]
    }
   ],
   "source": [
    "sizes = [7, 10, 15, 20]\n",
    "best_size = 0\n",
    "best_metric = 0\n",
    "\n",
    "for size in tqdm(sizes):\n",
    "    #эмбединг\n",
    "    w2v_model = Word2Vec(min_count=1, window=1, vector_size = size)\n",
    "    w2v_model.build_vocab(data)\n",
    "    w2v_model.train(data, total_examples=w2v_model.corpus_count, epochs=30, report_delay=1)\n",
    "    new_df = df.copy()\n",
    "    new_df = new_df.drop(columns = ['primary_cuisine', 'en_name', 'product_id'])\n",
    "\n",
    "    for index, row in df.iterrows(): \n",
    "        primary_cuisine = w2v_model.wv[row['primary_cuisine']]\n",
    "        en_name = w2v_model.wv[str(row['en_name'])]\n",
    "        i = 0\n",
    "        for n in primary_cuisine:\n",
    "            new_df.at[index, f'primary_cuisine_{i}'] = n\n",
    "            i += 1\n",
    "        i = 0\n",
    "        for n in en_name:\n",
    "            new_df.at[index, f'en_name_{i}'] = n\n",
    "            i += 1\n",
    "    #hdbscan\n",
    "    clusterer = hdbscan.HDBSCAN(min_cluster_size=20, gen_min_span_tree=True)\n",
    "    clusterer.fit(new_df)\n",
    "    score = silhouette_score(new_df, clusterer.labels_)\n",
    "    if score > best_metric:\n",
    "        best_metric = score\n",
    "        best_size = size\n",
    "    print('hdbscan', score)"
   ]
  },
  {
   "cell_type": "code",
   "execution_count": 14,
   "id": "5b906cc4",
   "metadata": {},
   "outputs": [
    {
     "data": {
      "text/plain": [
       "10"
      ]
     },
     "execution_count": 14,
     "metadata": {},
     "output_type": "execute_result"
    }
   ],
   "source": [
    "best_size"
   ]
  },
  {
   "cell_type": "markdown",
   "id": "b8ed9bc0",
   "metadata": {},
   "source": [
    "## Выбор минимального размера кластера"
   ]
  },
  {
   "cell_type": "code",
   "execution_count": 16,
   "id": "9513abca",
   "metadata": {},
   "outputs": [
    {
     "data": {
      "application/vnd.jupyter.widget-view+json": {
       "model_id": "b495e3a6b3fa45439612eebd5f1632b9",
       "version_major": 2,
       "version_minor": 0
      },
      "text/plain": [
       "  0%|          | 0/6 [00:00<?, ?it/s]"
      ]
     },
     "metadata": {},
     "output_type": "display_data"
    },
    {
     "name": "stdout",
     "output_type": "stream",
     "text": [
      "cluster_size=20 score=0.1364274458589733\n",
      "cluster_size=50 score=0.5162352593415073\n",
      "cluster_size=100 score=0.7087550841230811\n",
      "cluster_size=150 score=0.7094847195208035\n",
      "cluster_size=200 score=0.7041127757159253\n",
      "cluster_size=250 score=0.7041210706354343\n"
     ]
    }
   ],
   "source": [
    "cluster_sizes = [20, 50, 100, 150, 200, 250]\n",
    "cluster_best_size = 0\n",
    "best_metric = 0\n",
    "\n",
    "#эмбединг\n",
    "w2v_model = Word2Vec(min_count=1, window=1, vector_size = 10)\n",
    "w2v_model.build_vocab(data)\n",
    "w2v_model.train(data, total_examples=w2v_model.corpus_count, epochs=30, report_delay=1)\n",
    "new_df = df.copy()\n",
    "new_df = new_df.drop(columns = ['primary_cuisine', 'en_name', 'product_id'])\n",
    "\n",
    "for index, row in df.iterrows(): \n",
    "    primary_cuisine = w2v_model.wv[row['primary_cuisine']]\n",
    "    en_name = w2v_model.wv[str(row['en_name'])]\n",
    "    i = 0\n",
    "    for n in primary_cuisine:\n",
    "        new_df.at[index, f'primary_cuisine_{i}'] = n\n",
    "        i += 1\n",
    "    i = 0\n",
    "    for n in en_name:\n",
    "        new_df.at[index, f'en_name_{i}'] = n\n",
    "        i += 1\n",
    "\n",
    "for size in tqdm(cluster_sizes):\n",
    "    #hdbscan\n",
    "    clusterer = hdbscan.HDBSCAN(min_cluster_size=size, gen_min_span_tree=True)\n",
    "    clusterer.fit(new_df)\n",
    "    score = silhouette_score(new_df, clusterer.labels_)\n",
    "    if score > best_metric:\n",
    "        best_metric = score\n",
    "        best_size = size\n",
    "    print(f'cluster_size={size} score={score}')"
   ]
  },
  {
   "cell_type": "markdown",
   "id": "76267d77",
   "metadata": {},
   "source": [
    "### Коэффициент Силуэтта \n",
    "\n",
    "К-т Силуэтта (англ *Silhouette*) - это метрика, которая не предполагает знания истинных меток объектов, и позволяет оценить качество кластеризации, используя только саму (неразмеченную) выборку и результат кластеризации.\n",
    "\n",
    "Интуитивное описание метрики:\n",
    "* точки внутри кластера должны лежать очень близко друг к другу, то есть кластер должен быть *плотным*\n",
    "* сами кластера должны лежать как можно дальше друг от друга\n",
    "\n",
    "Метрика силуэта позволяет учитывать оба этих факта в одной формуле."
   ]
  },
  {
   "cell_type": "markdown",
   "id": "07094936",
   "metadata": {},
   "source": [
    "Чтобы вычислить его для каждого объекта нужно вычислить для каждого объекта выборки две величины, $a$ (среднее расстояние от данного объекта до объектов из того же кластера) и $b$ (среднее расстояние от данного объекта до объектов из ближайшего кластера (отличного от того, в котором лежит сам объект)). \n",
    "\n",
    "Силуэтом объекта назовём нормализованную разность между этими величинами\n",
    "\n",
    "$$\n",
    "s = \\frac{b-a}{\\max(a,b)}\n",
    "$$"
   ]
  },
  {
   "cell_type": "markdown",
   "id": "db6c223d",
   "metadata": {},
   "source": [
    "Силуэтом выборки называется средняя величина силуэта объектов данной выборки. Таким образом, силуэт показывает, насколько среднее расстояние до объектов своего кластера отличается от среднего расстояния до объектов других кластеров. Эта величина меняется в интервале от $-1$ до $1$:\n",
    "\n",
    "* -1 значит что кластера плохие, размытые\n",
    "* 0 значит что кластера накладываются друг на друга\n",
    "* 1 значит что кластера плотные и хорошо отделены друг от друга\n",
    "\n",
    "Таким образом, чем ближе значение к-та Силуэтта в единице, тем лучше. Все, что больше $0.5$ хорошие значения, всё что меньше - надо улучшать.\n",
    "\n",
    "Формулу реализовывать не надо, она уже есть в *sklearn*. Для примера загрузим наш датасет с кластеризацией:"
   ]
  },
  {
   "cell_type": "markdown",
   "id": "46089018",
   "metadata": {},
   "source": [
    "## Обучение алгоритма и создание колонки кластера в данных"
   ]
  },
  {
   "cell_type": "code",
   "execution_count": 17,
   "id": "323b5b76",
   "metadata": {},
   "outputs": [
    {
     "data": {
      "text/html": [
       "<style>#sk-container-id-1 {color: black;background-color: white;}#sk-container-id-1 pre{padding: 0;}#sk-container-id-1 div.sk-toggleable {background-color: white;}#sk-container-id-1 label.sk-toggleable__label {cursor: pointer;display: block;width: 100%;margin-bottom: 0;padding: 0.3em;box-sizing: border-box;text-align: center;}#sk-container-id-1 label.sk-toggleable__label-arrow:before {content: \"▸\";float: left;margin-right: 0.25em;color: #696969;}#sk-container-id-1 label.sk-toggleable__label-arrow:hover:before {color: black;}#sk-container-id-1 div.sk-estimator:hover label.sk-toggleable__label-arrow:before {color: black;}#sk-container-id-1 div.sk-toggleable__content {max-height: 0;max-width: 0;overflow: hidden;text-align: left;background-color: #f0f8ff;}#sk-container-id-1 div.sk-toggleable__content pre {margin: 0.2em;color: black;border-radius: 0.25em;background-color: #f0f8ff;}#sk-container-id-1 input.sk-toggleable__control:checked~div.sk-toggleable__content {max-height: 200px;max-width: 100%;overflow: auto;}#sk-container-id-1 input.sk-toggleable__control:checked~label.sk-toggleable__label-arrow:before {content: \"▾\";}#sk-container-id-1 div.sk-estimator input.sk-toggleable__control:checked~label.sk-toggleable__label {background-color: #d4ebff;}#sk-container-id-1 div.sk-label input.sk-toggleable__control:checked~label.sk-toggleable__label {background-color: #d4ebff;}#sk-container-id-1 input.sk-hidden--visually {border: 0;clip: rect(1px 1px 1px 1px);clip: rect(1px, 1px, 1px, 1px);height: 1px;margin: -1px;overflow: hidden;padding: 0;position: absolute;width: 1px;}#sk-container-id-1 div.sk-estimator {font-family: monospace;background-color: #f0f8ff;border: 1px dotted black;border-radius: 0.25em;box-sizing: border-box;margin-bottom: 0.5em;}#sk-container-id-1 div.sk-estimator:hover {background-color: #d4ebff;}#sk-container-id-1 div.sk-parallel-item::after {content: \"\";width: 100%;border-bottom: 1px solid gray;flex-grow: 1;}#sk-container-id-1 div.sk-label:hover label.sk-toggleable__label {background-color: #d4ebff;}#sk-container-id-1 div.sk-serial::before {content: \"\";position: absolute;border-left: 1px solid gray;box-sizing: border-box;top: 0;bottom: 0;left: 50%;z-index: 0;}#sk-container-id-1 div.sk-serial {display: flex;flex-direction: column;align-items: center;background-color: white;padding-right: 0.2em;padding-left: 0.2em;position: relative;}#sk-container-id-1 div.sk-item {position: relative;z-index: 1;}#sk-container-id-1 div.sk-parallel {display: flex;align-items: stretch;justify-content: center;background-color: white;position: relative;}#sk-container-id-1 div.sk-item::before, #sk-container-id-1 div.sk-parallel-item::before {content: \"\";position: absolute;border-left: 1px solid gray;box-sizing: border-box;top: 0;bottom: 0;left: 50%;z-index: -1;}#sk-container-id-1 div.sk-parallel-item {display: flex;flex-direction: column;z-index: 1;position: relative;background-color: white;}#sk-container-id-1 div.sk-parallel-item:first-child::after {align-self: flex-end;width: 50%;}#sk-container-id-1 div.sk-parallel-item:last-child::after {align-self: flex-start;width: 50%;}#sk-container-id-1 div.sk-parallel-item:only-child::after {width: 0;}#sk-container-id-1 div.sk-dashed-wrapped {border: 1px dashed gray;margin: 0 0.4em 0.5em 0.4em;box-sizing: border-box;padding-bottom: 0.4em;background-color: white;}#sk-container-id-1 div.sk-label label {font-family: monospace;font-weight: bold;display: inline-block;line-height: 1.2em;}#sk-container-id-1 div.sk-label-container {text-align: center;}#sk-container-id-1 div.sk-container {/* jupyter's `normalize.less` sets `[hidden] { display: none; }` but bootstrap.min.css set `[hidden] { display: none !important; }` so we also need the `!important` here to be able to override the default hidden behavior on the sphinx rendered scikit-learn.org. See: https://github.com/scikit-learn/scikit-learn/issues/21755 */display: inline-block !important;position: relative;}#sk-container-id-1 div.sk-text-repr-fallback {display: none;}</style><div id=\"sk-container-id-1\" class=\"sk-top-container\"><div class=\"sk-text-repr-fallback\"><pre>HDBSCAN(gen_min_span_tree=True, min_cluster_size=100)</pre><b>In a Jupyter environment, please rerun this cell to show the HTML representation or trust the notebook. <br />On GitHub, the HTML representation is unable to render, please try loading this page with nbviewer.org.</b></div><div class=\"sk-container\" hidden><div class=\"sk-item\"><div class=\"sk-estimator sk-toggleable\"><input class=\"sk-toggleable__control sk-hidden--visually\" id=\"sk-estimator-id-1\" type=\"checkbox\" checked><label for=\"sk-estimator-id-1\" class=\"sk-toggleable__label sk-toggleable__label-arrow\">HDBSCAN</label><div class=\"sk-toggleable__content\"><pre>HDBSCAN(gen_min_span_tree=True, min_cluster_size=100)</pre></div></div></div></div></div>"
      ],
      "text/plain": [
       "HDBSCAN(gen_min_span_tree=True, min_cluster_size=100)"
      ]
     },
     "execution_count": 17,
     "metadata": {},
     "output_type": "execute_result"
    }
   ],
   "source": [
    "w2v_model = Word2Vec(min_count=1, window=1, vector_size = 10)\n",
    "w2v_model.build_vocab(data)\n",
    "w2v_model.train(data, total_examples=w2v_model.corpus_count, epochs=30, report_delay=1)\n",
    "new_df = df.copy()\n",
    "new_df = new_df.drop(columns = ['primary_cuisine', 'en_name', 'product_id'])\n",
    "\n",
    "for index, row in df.iterrows(): \n",
    "    primary_cuisine = w2v_model.wv[row['primary_cuisine']]\n",
    "    en_name = w2v_model.wv[str(row['en_name'])]\n",
    "    i = 0\n",
    "    for n in primary_cuisine:\n",
    "        new_df.at[index, f'primary_cuisine_{i}'] = n\n",
    "        i += 1\n",
    "    i = 0\n",
    "    for n in en_name:\n",
    "        new_df.at[index, f'en_name_{i}'] = n\n",
    "        i += 1\n",
    "\n",
    "clusterer = hdbscan.HDBSCAN(min_cluster_size=100, gen_min_span_tree=True)\n",
    "clusterer.fit(new_df)"
   ]
  },
  {
   "cell_type": "code",
   "execution_count": 21,
   "id": "03f3f246",
   "metadata": {},
   "outputs": [],
   "source": [
    "new_df['cluster'] = clusterer.labels_\n",
    "new_df['product_id'] = df['product_id']"
   ]
  },
  {
   "cell_type": "code",
   "execution_count": 22,
   "id": "dad36d57",
   "metadata": {},
   "outputs": [],
   "source": [
    "new_df.to_csv('../data/with_clusters.csv')"
   ]
  },
  {
   "cell_type": "code",
   "execution_count": 23,
   "id": "0cb7c066",
   "metadata": {},
   "outputs": [
    {
     "data": {
      "text/html": [
       "<div>\n",
       "<style scoped>\n",
       "    .dataframe tbody tr th:only-of-type {\n",
       "        vertical-align: middle;\n",
       "    }\n",
       "\n",
       "    .dataframe tbody tr th {\n",
       "        vertical-align: top;\n",
       "    }\n",
       "\n",
       "    .dataframe thead th {\n",
       "        text-align: right;\n",
       "    }\n",
       "</style>\n",
       "<table border=\"1\" class=\"dataframe\">\n",
       "  <thead>\n",
       "    <tr style=\"text-align: right;\">\n",
       "      <th></th>\n",
       "      <th>unit_price</th>\n",
       "      <th>latitude</th>\n",
       "      <th>longitude</th>\n",
       "      <th>primary_cuisine_0</th>\n",
       "      <th>primary_cuisine_1</th>\n",
       "      <th>primary_cuisine_2</th>\n",
       "      <th>primary_cuisine_3</th>\n",
       "      <th>primary_cuisine_4</th>\n",
       "      <th>primary_cuisine_5</th>\n",
       "      <th>primary_cuisine_6</th>\n",
       "      <th>...</th>\n",
       "      <th>en_name_2</th>\n",
       "      <th>en_name_3</th>\n",
       "      <th>en_name_4</th>\n",
       "      <th>en_name_5</th>\n",
       "      <th>en_name_6</th>\n",
       "      <th>en_name_7</th>\n",
       "      <th>en_name_8</th>\n",
       "      <th>en_name_9</th>\n",
       "      <th>cluster</th>\n",
       "      <th>product_id</th>\n",
       "    </tr>\n",
       "  </thead>\n",
       "  <tbody>\n",
       "    <tr>\n",
       "      <th>0</th>\n",
       "      <td>0.304</td>\n",
       "      <td>59.3</td>\n",
       "      <td>18.0</td>\n",
       "      <td>0.706078</td>\n",
       "      <td>-1.448574</td>\n",
       "      <td>1.675925</td>\n",
       "      <td>-1.972668</td>\n",
       "      <td>-0.204048</td>\n",
       "      <td>0.559646</td>\n",
       "      <td>4.476071</td>\n",
       "      <td>...</td>\n",
       "      <td>0.083150</td>\n",
       "      <td>-0.042129</td>\n",
       "      <td>0.031928</td>\n",
       "      <td>0.026733</td>\n",
       "      <td>-0.029407</td>\n",
       "      <td>-0.074990</td>\n",
       "      <td>0.098144</td>\n",
       "      <td>-0.031006</td>\n",
       "      <td>5</td>\n",
       "      <td>ec33db14a2c5</td>\n",
       "    </tr>\n",
       "    <tr>\n",
       "      <th>1</th>\n",
       "      <td>0.240</td>\n",
       "      <td>59.3</td>\n",
       "      <td>18.2</td>\n",
       "      <td>0.388050</td>\n",
       "      <td>-1.036243</td>\n",
       "      <td>2.172207</td>\n",
       "      <td>-1.290226</td>\n",
       "      <td>0.246125</td>\n",
       "      <td>-0.469956</td>\n",
       "      <td>7.482125</td>\n",
       "      <td>...</td>\n",
       "      <td>0.029254</td>\n",
       "      <td>-0.090641</td>\n",
       "      <td>0.085059</td>\n",
       "      <td>0.072139</td>\n",
       "      <td>0.078608</td>\n",
       "      <td>0.096100</td>\n",
       "      <td>-0.086711</td>\n",
       "      <td>-0.021956</td>\n",
       "      <td>20</td>\n",
       "      <td>fa04d9e5b964</td>\n",
       "    </tr>\n",
       "    <tr>\n",
       "      <th>2</th>\n",
       "      <td>0.820</td>\n",
       "      <td>59.3</td>\n",
       "      <td>18.1</td>\n",
       "      <td>-0.160905</td>\n",
       "      <td>-1.277902</td>\n",
       "      <td>2.375871</td>\n",
       "      <td>-2.297812</td>\n",
       "      <td>0.321750</td>\n",
       "      <td>-0.944451</td>\n",
       "      <td>6.697765</td>\n",
       "      <td>...</td>\n",
       "      <td>0.009403</td>\n",
       "      <td>-0.049864</td>\n",
       "      <td>0.057560</td>\n",
       "      <td>-0.011735</td>\n",
       "      <td>-0.033440</td>\n",
       "      <td>-0.077631</td>\n",
       "      <td>-0.072010</td>\n",
       "      <td>-0.001155</td>\n",
       "      <td>31</td>\n",
       "      <td>9f502de9373e</td>\n",
       "    </tr>\n",
       "    <tr>\n",
       "      <th>3</th>\n",
       "      <td>0.872</td>\n",
       "      <td>59.3</td>\n",
       "      <td>18.2</td>\n",
       "      <td>0.427666</td>\n",
       "      <td>-1.088354</td>\n",
       "      <td>2.023588</td>\n",
       "      <td>-1.891981</td>\n",
       "      <td>0.932764</td>\n",
       "      <td>-0.032216</td>\n",
       "      <td>6.375370</td>\n",
       "      <td>...</td>\n",
       "      <td>0.010731</td>\n",
       "      <td>-0.089043</td>\n",
       "      <td>-0.086058</td>\n",
       "      <td>-0.055701</td>\n",
       "      <td>-0.090528</td>\n",
       "      <td>-0.006858</td>\n",
       "      <td>-0.097648</td>\n",
       "      <td>-0.093000</td>\n",
       "      <td>26</td>\n",
       "      <td>35ac685bcc43</td>\n",
       "    </tr>\n",
       "    <tr>\n",
       "      <th>4</th>\n",
       "      <td>0.152</td>\n",
       "      <td>59.3</td>\n",
       "      <td>18.2</td>\n",
       "      <td>0.427666</td>\n",
       "      <td>-1.088354</td>\n",
       "      <td>2.023588</td>\n",
       "      <td>-1.891981</td>\n",
       "      <td>0.932764</td>\n",
       "      <td>-0.032216</td>\n",
       "      <td>6.375370</td>\n",
       "      <td>...</td>\n",
       "      <td>-0.072503</td>\n",
       "      <td>-0.096033</td>\n",
       "      <td>-0.027436</td>\n",
       "      <td>-0.083628</td>\n",
       "      <td>-0.060389</td>\n",
       "      <td>-0.056709</td>\n",
       "      <td>-0.023441</td>\n",
       "      <td>-0.017070</td>\n",
       "      <td>26</td>\n",
       "      <td>ea2ce1a7db0f</td>\n",
       "    </tr>\n",
       "  </tbody>\n",
       "</table>\n",
       "<p>5 rows × 25 columns</p>\n",
       "</div>"
      ],
      "text/plain": [
       "   unit_price  latitude  longitude  primary_cuisine_0  primary_cuisine_1  \\\n",
       "0       0.304      59.3       18.0           0.706078          -1.448574   \n",
       "1       0.240      59.3       18.2           0.388050          -1.036243   \n",
       "2       0.820      59.3       18.1          -0.160905          -1.277902   \n",
       "3       0.872      59.3       18.2           0.427666          -1.088354   \n",
       "4       0.152      59.3       18.2           0.427666          -1.088354   \n",
       "\n",
       "   primary_cuisine_2  primary_cuisine_3  primary_cuisine_4  primary_cuisine_5  \\\n",
       "0           1.675925          -1.972668          -0.204048           0.559646   \n",
       "1           2.172207          -1.290226           0.246125          -0.469956   \n",
       "2           2.375871          -2.297812           0.321750          -0.944451   \n",
       "3           2.023588          -1.891981           0.932764          -0.032216   \n",
       "4           2.023588          -1.891981           0.932764          -0.032216   \n",
       "\n",
       "   primary_cuisine_6  ...  en_name_2  en_name_3  en_name_4  en_name_5  \\\n",
       "0           4.476071  ...   0.083150  -0.042129   0.031928   0.026733   \n",
       "1           7.482125  ...   0.029254  -0.090641   0.085059   0.072139   \n",
       "2           6.697765  ...   0.009403  -0.049864   0.057560  -0.011735   \n",
       "3           6.375370  ...   0.010731  -0.089043  -0.086058  -0.055701   \n",
       "4           6.375370  ...  -0.072503  -0.096033  -0.027436  -0.083628   \n",
       "\n",
       "   en_name_6  en_name_7  en_name_8  en_name_9  cluster    product_id  \n",
       "0  -0.029407  -0.074990   0.098144  -0.031006        5  ec33db14a2c5  \n",
       "1   0.078608   0.096100  -0.086711  -0.021956       20  fa04d9e5b964  \n",
       "2  -0.033440  -0.077631  -0.072010  -0.001155       31  9f502de9373e  \n",
       "3  -0.090528  -0.006858  -0.097648  -0.093000       26  35ac685bcc43  \n",
       "4  -0.060389  -0.056709  -0.023441  -0.017070       26  ea2ce1a7db0f  \n",
       "\n",
       "[5 rows x 25 columns]"
      ]
     },
     "execution_count": 23,
     "metadata": {},
     "output_type": "execute_result"
    }
   ],
   "source": [
    "new_df.head()"
   ]
  },
  {
   "cell_type": "code",
   "execution_count": null,
   "id": "b9d2526b",
   "metadata": {},
   "outputs": [],
   "source": []
  }
 ],
 "metadata": {
  "kernelspec": {
   "display_name": "Python 3 (ipykernel)",
   "language": "python",
   "name": "python3"
  },
  "language_info": {
   "codemirror_mode": {
    "name": "ipython",
    "version": 3
   },
   "file_extension": ".py",
   "mimetype": "text/x-python",
   "name": "python",
   "nbconvert_exporter": "python",
   "pygments_lexer": "ipython3",
   "version": "3.9.13"
  }
 },
 "nbformat": 4,
 "nbformat_minor": 5
}
